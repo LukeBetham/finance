{
 "cells": [
  {
   "cell_type": "code",
   "execution_count": 1,
   "metadata": {
    "ExecuteTime": {
     "end_time": "2021-01-03T17:22:26.633674Z",
     "start_time": "2021-01-03T17:22:26.631910Z"
    }
   },
   "outputs": [],
   "source": [
    "#!pip install simfin"
   ]
  },
  {
   "cell_type": "code",
   "execution_count": 2,
   "metadata": {
    "ExecuteTime": {
     "end_time": "2021-01-03T17:22:26.958026Z",
     "start_time": "2021-01-03T17:22:26.952718Z"
    }
   },
   "outputs": [],
   "source": [
    "import pandas as pd\n",
    "import simfin as sf"
   ]
  },
  {
   "cell_type": "markdown",
   "metadata": {},
   "source": [
    "## API Settings"
   ]
  },
  {
   "cell_type": "code",
   "execution_count": 3,
   "metadata": {
    "ExecuteTime": {
     "end_time": "2021-01-03T18:55:41.442609Z",
     "start_time": "2021-01-03T18:55:41.372165Z"
    }
   },
   "outputs": [],
   "source": [
    "# Set your API-key for downloading data. 'free' key gets the free data (1 year old).\n",
    "sf.set_api_key('free')\n",
    "\n",
    "# Set the local directory where data-files are stored.\n",
    "# The directory will be created if it does not already exist.\n",
    "sf.set_data_dir('/Users/lukebetham/Documents/simfin_data')\n",
    "\n",
    "#Region - Can currently be USA ('us') or Germany ('de')\n",
    "region='us'"
   ]
  },
  {
   "cell_type": "markdown",
   "metadata": {},
   "source": [
    "## Company id/name data"
   ]
  },
  {
   "cell_type": "code",
   "execution_count": 4,
   "metadata": {
    "ExecuteTime": {
     "end_time": "2021-01-03T18:55:42.431883Z",
     "start_time": "2021-01-03T18:55:42.288372Z"
    }
   },
   "outputs": [
    {
     "name": "stdout",
     "output_type": "stream",
     "text": [
      "Dataset \"us-companies\" on disk (6 days old).\n",
      "- Loading from disk ... Done!\n"
     ]
    },
    {
     "data": {
      "text/html": [
       "<div>\n",
       "<style scoped>\n",
       "    .dataframe tbody tr th:only-of-type {\n",
       "        vertical-align: middle;\n",
       "    }\n",
       "\n",
       "    .dataframe tbody tr th {\n",
       "        vertical-align: top;\n",
       "    }\n",
       "\n",
       "    .dataframe thead th {\n",
       "        text-align: right;\n",
       "    }\n",
       "</style>\n",
       "<table border=\"1\" class=\"dataframe\">\n",
       "  <thead>\n",
       "    <tr style=\"text-align: right;\">\n",
       "      <th></th>\n",
       "      <th>SimFinId</th>\n",
       "      <th>Company Name</th>\n",
       "      <th>IndustryId</th>\n",
       "    </tr>\n",
       "    <tr>\n",
       "      <th>Ticker</th>\n",
       "      <th></th>\n",
       "      <th></th>\n",
       "      <th></th>\n",
       "    </tr>\n",
       "  </thead>\n",
       "  <tbody>\n",
       "    <tr>\n",
       "      <th>A</th>\n",
       "      <td>45846</td>\n",
       "      <td>AGILENT TECHNOLOGIES INC</td>\n",
       "      <td>106001.0</td>\n",
       "    </tr>\n",
       "    <tr>\n",
       "      <th>AA</th>\n",
       "      <td>367153</td>\n",
       "      <td>Alcoa Corp</td>\n",
       "      <td>110004.0</td>\n",
       "    </tr>\n",
       "    <tr>\n",
       "      <th>AAC</th>\n",
       "      <td>939324</td>\n",
       "      <td>AAC Holdings, Inc.</td>\n",
       "      <td>106011.0</td>\n",
       "    </tr>\n",
       "    <tr>\n",
       "      <th>AAL</th>\n",
       "      <td>68568</td>\n",
       "      <td>American Airlines Group Inc.</td>\n",
       "      <td>100006.0</td>\n",
       "    </tr>\n",
       "    <tr>\n",
       "      <th>AAMC</th>\n",
       "      <td>847094</td>\n",
       "      <td>Altisource Asset Management Corp</td>\n",
       "      <td>104001.0</td>\n",
       "    </tr>\n",
       "    <tr>\n",
       "      <th>...</th>\n",
       "      <td>...</td>\n",
       "      <td>...</td>\n",
       "      <td>...</td>\n",
       "    </tr>\n",
       "    <tr>\n",
       "      <th>ZS</th>\n",
       "      <td>896477</td>\n",
       "      <td>Zscaler, Inc.</td>\n",
       "      <td>101003.0</td>\n",
       "    </tr>\n",
       "    <tr>\n",
       "      <th>ZTS</th>\n",
       "      <td>378251</td>\n",
       "      <td>Zoetis</td>\n",
       "      <td>106005.0</td>\n",
       "    </tr>\n",
       "    <tr>\n",
       "      <th>ZUMZ</th>\n",
       "      <td>45730</td>\n",
       "      <td>Zumiez Inc</td>\n",
       "      <td>103002.0</td>\n",
       "    </tr>\n",
       "    <tr>\n",
       "      <th>ZYNE</th>\n",
       "      <td>901704</td>\n",
       "      <td>Zynerba Pharmaceuticals, Inc.</td>\n",
       "      <td>106002.0</td>\n",
       "    </tr>\n",
       "    <tr>\n",
       "      <th>ZYXI</th>\n",
       "      <td>171401</td>\n",
       "      <td>ZYNEX INC</td>\n",
       "      <td>106004.0</td>\n",
       "    </tr>\n",
       "  </tbody>\n",
       "</table>\n",
       "<p>2359 rows × 3 columns</p>\n",
       "</div>"
      ],
      "text/plain": [
       "        SimFinId                      Company Name  IndustryId\n",
       "Ticker                                                        \n",
       "A          45846          AGILENT TECHNOLOGIES INC    106001.0\n",
       "AA        367153                        Alcoa Corp    110004.0\n",
       "AAC       939324                AAC Holdings, Inc.    106011.0\n",
       "AAL        68568      American Airlines Group Inc.    100006.0\n",
       "AAMC      847094  Altisource Asset Management Corp    104001.0\n",
       "...          ...                               ...         ...\n",
       "ZS        896477                     Zscaler, Inc.    101003.0\n",
       "ZTS       378251                            Zoetis    106005.0\n",
       "ZUMZ       45730                        Zumiez Inc    103002.0\n",
       "ZYNE      901704     Zynerba Pharmaceuticals, Inc.    106002.0\n",
       "ZYXI      171401                         ZYNEX INC    106004.0\n",
       "\n",
       "[2359 rows x 3 columns]"
      ]
     },
     "execution_count": 4,
     "metadata": {},
     "output_type": "execute_result"
    }
   ],
   "source": [
    "df_name = sf.load_companies(market=region)\n",
    "df_name"
   ]
  },
  {
   "cell_type": "markdown",
   "metadata": {},
   "source": [
    "## Industry Ids"
   ]
  },
  {
   "cell_type": "code",
   "execution_count": 5,
   "metadata": {
    "ExecuteTime": {
     "end_time": "2021-01-03T18:49:20.641475Z",
     "start_time": "2021-01-03T18:49:20.624281Z"
    }
   },
   "outputs": [
    {
     "name": "stdout",
     "output_type": "stream",
     "text": [
      "Dataset \"industries\" on disk (6 days old).\n",
      "- Loading from disk ... Done!\n"
     ]
    }
   ],
   "source": [
    "df_industry = sf.load_industries()"
   ]
  },
  {
   "cell_type": "markdown",
   "metadata": {},
   "source": [
    "## Earnings data - Income Statement"
   ]
  },
  {
   "cell_type": "code",
   "execution_count": 6,
   "metadata": {
    "ExecuteTime": {
     "end_time": "2021-01-03T18:55:43.810793Z",
     "start_time": "2021-01-03T18:55:43.459013Z"
    }
   },
   "outputs": [
    {
     "name": "stdout",
     "output_type": "stream",
     "text": [
      "Dataset \"us-income-quarterly\" on disk (0 days old).\n",
      "- Loading from disk ... Done!\n"
     ]
    },
    {
     "data": {
      "text/plain": [
       "Index(['SimFinId', 'Currency', 'Fiscal Year', 'Fiscal Period', 'Publish Date',\n",
       "       'Restated Date', 'Shares (Basic)', 'Shares (Diluted)', 'Revenue',\n",
       "       'Cost of Revenue', 'Gross Profit', 'Operating Expenses',\n",
       "       'Selling, General & Administrative', 'Research & Development',\n",
       "       'Depreciation & Amortization', 'Operating Income (Loss)',\n",
       "       'Non-Operating Income (Loss)', 'Interest Expense, Net',\n",
       "       'Pretax Income (Loss), Adj.', 'Abnormal Gains (Losses)',\n",
       "       'Pretax Income (Loss)', 'Income Tax (Expense) Benefit, Net',\n",
       "       'Income (Loss) from Continuing Operations',\n",
       "       'Net Extraordinary Gains (Losses)', 'Net Income',\n",
       "       'Net Income (Common)'],\n",
       "      dtype='object')"
      ]
     },
     "execution_count": 6,
     "metadata": {},
     "output_type": "execute_result"
    }
   ],
   "source": [
    "# Download the data from the SimFin server and load into a Pandas DataFrame.\n",
    "df_earnings = sf.load_income(variant='quarterly', market=region)\n",
    "df_earnings.columns"
   ]
  },
  {
   "cell_type": "markdown",
   "metadata": {
    "ExecuteTime": {
     "end_time": "2021-01-03T17:10:20.792160Z",
     "start_time": "2021-01-03T17:10:20.700215Z"
    }
   },
   "source": []
  },
  {
   "cell_type": "markdown",
   "metadata": {},
   "source": [
    "## Balance Sheet data"
   ]
  },
  {
   "cell_type": "code",
   "execution_count": 7,
   "metadata": {},
   "outputs": [
    {
     "name": "stdout",
     "output_type": "stream",
     "text": [
      "Dataset \"us-balance-quarterly\" on disk (0 days old).\n",
      "- Loading from disk ... Done!\n"
     ]
    },
    {
     "data": {
      "text/plain": [
       "Index(['SimFinId', 'Currency', 'Fiscal Year', 'Fiscal Period', 'Publish Date',\n",
       "       'Restated Date', 'Shares (Basic)', 'Shares (Diluted)',\n",
       "       'Cash, Cash Equivalents & Short Term Investments',\n",
       "       'Accounts & Notes Receivable', 'Inventories', 'Total Current Assets',\n",
       "       'Property, Plant & Equipment, Net',\n",
       "       'Long Term Investments & Receivables', 'Other Long Term Assets',\n",
       "       'Total Noncurrent Assets', 'Total Assets', 'Payables & Accruals',\n",
       "       'Short Term Debt', 'Total Current Liabilities', 'Long Term Debt',\n",
       "       'Total Noncurrent Liabilities', 'Total Liabilities',\n",
       "       'Share Capital & Additional Paid-In Capital', 'Treasury Stock',\n",
       "       'Retained Earnings', 'Total Equity', 'Total Liabilities & Equity'],\n",
       "      dtype='object')"
      ]
     },
     "execution_count": 7,
     "metadata": {},
     "output_type": "execute_result"
    }
   ],
   "source": [
    "df_bs = sf.load_balance(variant='quarterly', market=region)\n",
    "df_bs.columns"
   ]
  },
  {
   "cell_type": "markdown",
   "metadata": {},
   "source": [
    "## Cashflow data"
   ]
  },
  {
   "cell_type": "code",
   "execution_count": 8,
   "metadata": {},
   "outputs": [
    {
     "name": "stdout",
     "output_type": "stream",
     "text": [
      "Dataset \"us-cashflow-quarterly\" on disk (0 days old).\n",
      "- Loading from disk ... Done!\n"
     ]
    },
    {
     "data": {
      "text/plain": [
       "Index(['SimFinId', 'Currency', 'Fiscal Year', 'Fiscal Period', 'Publish Date',\n",
       "       'Restated Date', 'Shares (Basic)', 'Shares (Diluted)',\n",
       "       'Net Income/Starting Line', 'Depreciation & Amortization',\n",
       "       'Non-Cash Items', 'Change in Working Capital',\n",
       "       'Change in Accounts Receivable', 'Change in Inventories',\n",
       "       'Change in Accounts Payable', 'Change in Other',\n",
       "       'Net Cash from Operating Activities',\n",
       "       'Change in Fixed Assets & Intangibles',\n",
       "       'Net Change in Long Term Investment',\n",
       "       'Net Cash from Acquisitions & Divestitures',\n",
       "       'Net Cash from Investing Activities', 'Dividends Paid',\n",
       "       'Cash from (Repayment of) Debt', 'Cash from (Repurchase of) Equity',\n",
       "       'Net Cash from Financing Activities', 'Net Change in Cash'],\n",
       "      dtype='object')"
      ]
     },
     "execution_count": 8,
     "metadata": {},
     "output_type": "execute_result"
    }
   ],
   "source": [
    "df_cash = sf.load_cashflow(variant='quarterly', market=region)\n",
    "df_cash.columns"
   ]
  },
  {
   "cell_type": "markdown",
   "metadata": {},
   "source": [
    "## Share Prices"
   ]
  },
  {
   "cell_type": "code",
   "execution_count": 10,
   "metadata": {},
   "outputs": [
    {
     "name": "stdout",
     "output_type": "stream",
     "text": [
      "Dataset \"us-shareprices-daily\" on disk (0 days old).\n",
      "- Loading from disk ... Done!\n",
      "(5905523, 9)\n"
     ]
    },
    {
     "data": {
      "text/plain": [
       "Index(['SimFinId', 'Open', 'Low', 'High', 'Close', 'Adj. Close', 'Dividend',\n",
       "       'Volume', 'Shares Outstanding'],\n",
       "      dtype='object')"
      ]
     },
     "execution_count": 10,
     "metadata": {},
     "output_type": "execute_result"
    }
   ],
   "source": [
    "df_p = sf.load_shareprices(variant='daily', market='us')\n",
    "print(df_p.shape)\n",
    "df_p.columns\n"
   ]
  },
  {
   "cell_type": "markdown",
   "metadata": {},
   "source": [
    "## Industry averages"
   ]
  },
  {
   "cell_type": "code",
   "execution_count": null,
   "metadata": {},
   "outputs": [],
   "source": [
    "pd.merge(df_name.reset_index(),df_industry,'left',)"
   ]
  }
 ],
 "metadata": {
  "kernelspec": {
   "display_name": "python38",
   "language": "python",
   "name": "python38"
  },
  "language_info": {
   "codemirror_mode": {
    "name": "ipython",
    "version": 3
   },
   "file_extension": ".py",
   "mimetype": "text/x-python",
   "name": "python",
   "nbconvert_exporter": "python",
   "pygments_lexer": "ipython3",
   "version": "3.8.5"
  },
  "toc": {
   "base_numbering": 1,
   "nav_menu": {},
   "number_sections": true,
   "sideBar": true,
   "skip_h1_title": true,
   "title_cell": "Table of Contents",
   "title_sidebar": "Contents",
   "toc_cell": false,
   "toc_position": {},
   "toc_section_display": true,
   "toc_window_display": false
  },
  "varInspector": {
   "cols": {
    "lenName": 16,
    "lenType": 16,
    "lenVar": 40
   },
   "kernels_config": {
    "python": {
     "delete_cmd_postfix": "",
     "delete_cmd_prefix": "del ",
     "library": "var_list.py",
     "varRefreshCmd": "print(var_dic_list())"
    },
    "r": {
     "delete_cmd_postfix": ") ",
     "delete_cmd_prefix": "rm(",
     "library": "var_list.r",
     "varRefreshCmd": "cat(var_dic_list()) "
    }
   },
   "types_to_exclude": [
    "module",
    "function",
    "builtin_function_or_method",
    "instance",
    "_Feature"
   ],
   "window_display": false
  }
 },
 "nbformat": 4,
 "nbformat_minor": 4
}
